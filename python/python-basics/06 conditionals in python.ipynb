{
 "cells": [
  {
   "cell_type": "markdown",
   "metadata": {},
   "source": [
    "# Conditionals"
   ]
  },
  {
   "cell_type": "markdown",
   "metadata": {},
   "source": [
    "<p>Programming often involves examining a set of conditions and deciding which action to take based on those conditions. In this notebook, we will learn about python's conditionals.</p>"
   ]
  },
  {
   "cell_type": "markdown",
   "metadata": {},
   "source": [
    "## Let's take a simple example"
   ]
  },
  {
   "cell_type": "code",
   "execution_count": 2,
   "metadata": {},
   "outputs": [
    {
     "name": "stdout",
     "output_type": "stream",
     "text": [
      "BMW\n",
      "Audi\n",
      "VW\n",
      "Toyota\n",
      "Tata\n"
     ]
    }
   ],
   "source": [
    "cars = ['bmw', 'audi', 'vw', 'toyota', 'tata']\n",
    "\n",
    "for car in cars:\n",
    "    if car == 'bmw' or car == 'vw':\n",
    "        print(car.upper())\n",
    "    else:\n",
    "        print(car.title())"
   ]
  },
  {
   "cell_type": "markdown",
   "metadata": {},
   "source": [
    "<p>In the above code block we can see a very basic if, else conditional statement in python. Basically, it says 'check if the value of car is \"bmw\" or if it is \"vw\", if yes then capitalise them and print but if no then convert it into title and then print'. There complex conditionals as well which includes elif blocks, which we will see down below in this notebook.</p>"
   ]
  },
  {
   "cell_type": "code",
   "execution_count": null,
   "metadata": {},
   "outputs": [],
   "source": []
  }
 ],
 "metadata": {
  "kernelspec": {
   "display_name": "learn-ai",
   "language": "python",
   "name": "python3"
  },
  "language_info": {
   "codemirror_mode": {
    "name": "ipython",
    "version": 3
   },
   "file_extension": ".py",
   "mimetype": "text/x-python",
   "name": "python",
   "nbconvert_exporter": "python",
   "pygments_lexer": "ipython3",
   "version": "3.11.8"
  }
 },
 "nbformat": 4,
 "nbformat_minor": 2
}
