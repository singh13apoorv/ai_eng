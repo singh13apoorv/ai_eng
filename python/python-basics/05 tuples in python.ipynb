{
 "cells": [
  {
   "cell_type": "markdown",
   "metadata": {},
   "source": [
    "# Tuples"
   ]
  },
  {
   "cell_type": "markdown",
   "metadata": {},
   "source": [
    "<p>Tuples are basically immutable list. Instead of using a square bracket [] we use a parentheses () to define a tuple. You can access items of tuple using their index just like a list. Once you defined a tuple you can't change anything, so if you defined a tuple you can't change the elements inside it but you can redefine a tuple.</p>"
   ]
  },
  {
   "cell_type": "markdown",
   "metadata": {},
   "source": [
    "<p>Where would you want to use such a rigid data structure?\n",
    "We can use tuple to data we don't want to change for a given program like dimensions of a room or horsepower of car or ID number of people etc.\n",
    "</p>"
   ]
  },
  {
   "cell_type": "code",
   "execution_count": 1,
   "metadata": {},
   "outputs": [
    {
     "name": "stdout",
     "output_type": "stream",
     "text": [
      "(400, 300)\n",
      "<class 'tuple'>\n"
     ]
    }
   ],
   "source": [
    "# Now let's define a tuple\n",
    "dimensions = (400, 300)\n",
    "print(dimensions)\n",
    "print(type(dimensions))"
   ]
  },
  {
   "cell_type": "code",
   "execution_count": 2,
   "metadata": {},
   "outputs": [
    {
     "name": "stdout",
     "output_type": "stream",
     "text": [
      "(7,)\n",
      "<class 'tuple'>\n"
     ]
    }
   ],
   "source": [
    "# How to define a tuple with only 1 element?\n",
    "my_id = (7,)\n",
    "print(my_id)\n",
    "print(type(my_id))"
   ]
  },
  {
   "cell_type": "markdown",
   "metadata": {},
   "source": [
    "<p>Previously, I said that we need parentheses () to define a tuple but thats just for beautification. We can simply define a tuple by using comma , instead</p>"
   ]
  },
  {
   "cell_type": "code",
   "execution_count": 3,
   "metadata": {},
   "outputs": [
    {
     "name": "stdout",
     "output_type": "stream",
     "text": [
      "(39, 25, 35)\n",
      "<class 'tuple'>\n"
     ]
    }
   ],
   "source": [
    "tup = 39, 25, 35\n",
    "print(tup)\n",
    "print(type(tup))"
   ]
  },
  {
   "cell_type": "code",
   "execution_count": 4,
   "metadata": {},
   "outputs": [
    {
     "name": "stdout",
     "output_type": "stream",
     "text": [
      "(43,)\n",
      "<class 'tuple'>\n"
     ]
    }
   ],
   "source": [
    "tup_1d = 43,\n",
    "print(tup_1d)\n",
    "print(type(tup_1d))"
   ]
  },
  {
   "cell_type": "code",
   "execution_count": null,
   "metadata": {},
   "outputs": [],
   "source": []
  }
 ],
 "metadata": {
  "kernelspec": {
   "display_name": "learn-ai",
   "language": "python",
   "name": "python3"
  },
  "language_info": {
   "codemirror_mode": {
    "name": "ipython",
    "version": 3
   },
   "file_extension": ".py",
   "mimetype": "text/x-python",
   "name": "python",
   "nbconvert_exporter": "python",
   "pygments_lexer": "ipython3",
   "version": "3.11.8"
  }
 },
 "nbformat": 4,
 "nbformat_minor": 2
}
