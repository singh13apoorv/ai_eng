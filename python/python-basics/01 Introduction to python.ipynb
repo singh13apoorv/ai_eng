{
 "cells": [
  {
   "cell_type": "markdown",
   "metadata": {},
   "source": [
    "# Python\n",
    "<hr>\n",
    "\n",
    "Python is an interpreted programming language, that means instead of compiling the complete code and then running, it runs each line of code one by one. So, unlike compiled languages if your code is having error in lets say line number 13 then your code will run till line number 12 and then throw error.\n",
    "Python is also a loosely typed language, which means that you don't need to specify the typep of any variable but still if you want to use strict typing in your code then you can do it. If you have already applied type to a variable then you can't assign any value to that variable but you have to assign the value of the type of variable. We will see all this in future, so for now don't worry."
   ]
  },
  {
   "cell_type": "markdown",
   "metadata": {},
   "source": [
    "## Installing python\n",
    "There can be multiple ways to install python and it depends on your operating system. I recommend to install it by installing conda which is a package manager for python."
   ]
  },
  {
   "cell_type": "markdown",
   "metadata": {},
   "source": [
    "### Install python on MacOS\n",
    "<hr>\n",
    "\n",
    "If you are using latest version of MacOS then you will already have a stable version of python on your system running. you can check that by running the following on your terminal app:\n",
    "```python```\n",
    "Now, why would you want to download python on MacOS if it is already there?\n",
    "May be you want a different version of python as python has multiple packages and not all package is made of all version of python. Then, we have to install different python versions for different projects, thats why we use virtual environments. We have two ways we can create virtual environments:\n",
    "1. virtualenv\n",
    "2. conda\n",
    "\n",
    "To install virtualenv run the following:\n",
    "```pip install virtualenv``` or\n",
    "```pip3 install virtualenv```\n",
    "\n",
    "For more information on virtualenv follow the following link:\n",
    "[https://virtualenv.pypa.io/en/latest/installation.html]\n",
    "\n",
    "To install conda, we have two ways:\n",
    "1. if you have homebrew installed, then run the following command in your terminal:\n",
    "    ```brew install --cask anaconda```\n",
    "    This will simply install an app on your mac called anaconda navigator\n",
    "\n",
    "2. Go to this website and download the installer for anaconda navigator:\n",
    "    [https://www.anaconda.com/download]\n",
    "\n",
    "To learn more about anaconda navigator go to -> [https://www.anaconda.com/download#]\n",
    "\n",
    "To install homebrew on your mac run the following command on your terminal:\n",
    "```/bin/bash -c \"$(curl -fsSL https://raw.githubusercontent.com/Homebrew/install/HEAD/install.sh)\"```"
   ]
  },
  {
   "cell_type": "markdown",
   "metadata": {},
   "source": [
    "### Install python on windows\n",
    "<hr>\n",
    "\n",
    "There are two ways:\n",
    "1. Go to official python website and download -> [https://www.python.org/downloads/]\n",
    "2. Install Anaconda navigator -> [https://www.anaconda.com/download#]"
   ]
  },
  {
   "cell_type": "markdown",
   "metadata": {},
   "source": []
  }
 ],
 "metadata": {
  "kernelspec": {
   "display_name": "learn-ai",
   "language": "python",
   "name": "python3"
  },
  "language_info": {
   "name": "python",
   "version": "3.11.8"
  }
 },
 "nbformat": 4,
 "nbformat_minor": 2
}
