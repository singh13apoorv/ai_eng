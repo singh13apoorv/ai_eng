{
 "cells": [
  {
   "cell_type": "markdown",
   "metadata": {},
   "source": [
    "# List"
   ]
  },
  {
   "cell_type": "markdown",
   "metadata": {},
   "source": [
    "## Introduction to list:"
   ]
  },
  {
   "cell_type": "markdown",
   "metadata": {},
   "source": [
    "### What is a list?"
   ]
  },
  {
   "cell_type": "code",
   "execution_count": 1,
   "metadata": {},
   "outputs": [
    {
     "name": "stdout",
     "output_type": "stream",
     "text": [
      "['hatchback', 'sedan', 'suv', 'sports']\n",
      "<class 'list'>\n"
     ]
    }
   ],
   "source": [
    "# Lets define a list in python\n",
    "car_type = ['hatchback', 'sedan', 'suv', 'sports']\n",
    "print(car_type)\n",
    "print(type(car_type))"
   ]
  },
  {
   "cell_type": "code",
   "execution_count": 4,
   "metadata": {},
   "outputs": [
    {
     "name": "stdout",
     "output_type": "stream",
     "text": [
      "['hello', 3, 2.26, 'tree']\n",
      "<class 'list'>\n"
     ]
    }
   ],
   "source": [
    "# We can have multiple data types in one list if we want to.\n",
    "random_list = ['hello', 3, 2.26, 'tree']\n",
    "print(random_list)\n",
    "print(type(random_list))"
   ]
  },
  {
   "cell_type": "markdown",
   "metadata": {},
   "source": [
    "### Accessing values in the list"
   ]
  },
  {
   "cell_type": "code",
   "execution_count": 5,
   "metadata": {},
   "outputs": [
    {
     "data": {
      "text/plain": [
       "'hatchback'"
      ]
     },
     "execution_count": 5,
     "metadata": {},
     "output_type": "execute_result"
    }
   ],
   "source": [
    "# Just like string, list items also starts with 0 indexing\n",
    "# Lets try to access the first element (0th index) in car_type list.\n",
    "car_type[0]"
   ]
  },
  {
   "cell_type": "code",
   "execution_count": 6,
   "metadata": {},
   "outputs": [
    {
     "data": {
      "text/plain": [
       "'sports'"
      ]
     },
     "execution_count": 6,
     "metadata": {},
     "output_type": "execute_result"
    }
   ],
   "source": [
    "# Similarly like string we can access the last item in the list\n",
    "# using negitive indexing, hence -1 index will give you the last\n",
    "# element in a list.\n",
    "car_type[-1]"
   ]
  },
  {
   "cell_type": "markdown",
   "metadata": {},
   "source": [
    "## Changing, Adding and Removing elements from a list"
   ]
  },
  {
   "cell_type": "code",
   "execution_count": 5,
   "metadata": {},
   "outputs": [
    {
     "data": {
      "text/plain": [
       "['dhoni', 'kohli', 'rohit', 'bumrah', 'jadeja']"
      ]
     },
     "execution_count": 5,
     "metadata": {},
     "output_type": "execute_result"
    }
   ],
   "source": [
    "# Now let's create a new list to change, add and remove from\n",
    "cricket_players = ['dhoni', 'kohli', 'rohit', 'bumrah', 'jadeja']\n",
    "cricket_players"
   ]
  },
  {
   "cell_type": "code",
   "execution_count": 6,
   "metadata": {},
   "outputs": [
    {
     "data": {
      "text/plain": [
       "'dhoni'"
      ]
     },
     "execution_count": 6,
     "metadata": {},
     "output_type": "execute_result"
    }
   ],
   "source": [
    "cricket_players[0]"
   ]
  },
  {
   "cell_type": "markdown",
   "metadata": {},
   "source": [
    "### Modifying elements in a list"
   ]
  },
  {
   "cell_type": "code",
   "execution_count": 7,
   "metadata": {},
   "outputs": [
    {
     "name": "stdout",
     "output_type": "stream",
     "text": [
      "['dhoni', 'kohli', 'rohit', 'bumrah', 'jadeja']\n",
      "['dhoni', 'kohli', 'rohit', 'bumrah', 'ravindra']\n"
     ]
    }
   ],
   "source": [
    "print(cricket_players)\n",
    "cricket_players[-1] = 'ravindra'\n",
    "print(cricket_players)"
   ]
  },
  {
   "cell_type": "markdown",
   "metadata": {},
   "source": [
    "### Adding elements to the list"
   ]
  },
  {
   "cell_type": "code",
   "execution_count": 8,
   "metadata": {},
   "outputs": [
    {
     "name": "stdout",
     "output_type": "stream",
     "text": [
      "['dhoni', 'kohli', 'rohit', 'bumrah', 'ravindra']\n",
      "['dhoni', 'kohli', 'rohit', 'bumrah', 'ravindra', 'rahul']\n"
     ]
    }
   ],
   "source": [
    "print(cricket_players)\n",
    "cricket_players.append('rahul')\n",
    "print(cricket_players)"
   ]
  },
  {
   "cell_type": "markdown",
   "metadata": {},
   "source": [
    "### Inserting elements to the list"
   ]
  },
  {
   "cell_type": "code",
   "execution_count": 9,
   "metadata": {},
   "outputs": [
    {
     "name": "stdout",
     "output_type": "stream",
     "text": [
      "['dhoni', 'kohli', 'rohit', 'bumrah', 'ravindra', 'rahul']\n",
      "['sachin', 'dhoni', 'kohli', 'rohit', 'bumrah', 'ravindra', 'rahul']\n"
     ]
    }
   ],
   "source": [
    "print(cricket_players)\n",
    "cricket_players.insert(0, 'sachin')\n",
    "print(cricket_players)"
   ]
  },
  {
   "cell_type": "markdown",
   "metadata": {},
   "source": [
    "### Removing an item using the del statement"
   ]
  },
  {
   "cell_type": "code",
   "execution_count": 10,
   "metadata": {},
   "outputs": [
    {
     "name": "stdout",
     "output_type": "stream",
     "text": [
      "['sachin', 'dhoni', 'kohli', 'rohit', 'bumrah', 'ravindra', 'rahul']\n",
      "['sachin', 'dhoni', 'kohli', 'rohit', 'bumrah', 'ravindra']\n"
     ]
    }
   ],
   "source": [
    "print(cricket_players)\n",
    "del cricket_players[-1]\n",
    "print(cricket_players)"
   ]
  },
  {
   "cell_type": "markdown",
   "metadata": {},
   "source": [
    "### Removing items using pop"
   ]
  },
  {
   "cell_type": "code",
   "execution_count": 11,
   "metadata": {},
   "outputs": [
    {
     "name": "stdout",
     "output_type": "stream",
     "text": [
      "['sachin', 'dhoni', 'kohli', 'rohit', 'bumrah', 'ravindra']\n",
      "['sachin', 'dhoni', 'kohli', 'rohit', 'bumrah']\n",
      "ravindra\n"
     ]
    }
   ],
   "source": [
    "print(cricket_players)\n",
    "# removes the last element from a list.\n",
    "popped_player = cricket_players.pop()\n",
    "print(cricket_players)\n",
    "print(popped_player)"
   ]
  },
  {
   "cell_type": "markdown",
   "metadata": {},
   "source": [
    "### Popping items from any position in a list"
   ]
  },
  {
   "cell_type": "code",
   "execution_count": 12,
   "metadata": {},
   "outputs": [
    {
     "name": "stdout",
     "output_type": "stream",
     "text": [
      "['sachin', 'dhoni', 'kohli', 'rohit', 'bumrah']\n",
      "['sachin', 'dhoni', 'kohli', 'rohit']\n",
      "bumrah\n"
     ]
    }
   ],
   "source": [
    "print(cricket_players)\n",
    "fast_baller = cricket_players.pop(-1)\n",
    "print(cricket_players)\n",
    "print(fast_baller)"
   ]
  },
  {
   "cell_type": "markdown",
   "metadata": {},
   "source": [
    "### Removing an item by value"
   ]
  },
  {
   "cell_type": "markdown",
   "metadata": {},
   "source": [
    "<p>remove function will only remove the first occurance of the item.</p>"
   ]
  },
  {
   "cell_type": "code",
   "execution_count": 13,
   "metadata": {},
   "outputs": [
    {
     "name": "stdout",
     "output_type": "stream",
     "text": [
      "['sachin', 'dhoni', 'kohli', 'rohit']\n",
      "['dhoni', 'kohli', 'rohit']\n"
     ]
    }
   ],
   "source": [
    "print(cricket_players)\n",
    "cricket_players.remove('sachin')\n",
    "print(cricket_players)"
   ]
  },
  {
   "cell_type": "markdown",
   "metadata": {},
   "source": [
    "## Organising the list"
   ]
  },
  {
   "cell_type": "code",
   "execution_count": 1,
   "metadata": {},
   "outputs": [
    {
     "data": {
      "text/plain": [
       "['land rover', 'bmw', 'audi', 'toyota', 'mercedes']"
      ]
     },
     "execution_count": 1,
     "metadata": {},
     "output_type": "execute_result"
    }
   ],
   "source": [
    "# Let's create a new list\n",
    "cars = ['land rover', 'bmw', 'audi', 'toyota', 'mercedes']\n",
    "cars"
   ]
  },
  {
   "cell_type": "markdown",
   "metadata": {},
   "source": [
    "### Permanently sorting using sort method"
   ]
  },
  {
   "cell_type": "code",
   "execution_count": 2,
   "metadata": {},
   "outputs": [
    {
     "name": "stdout",
     "output_type": "stream",
     "text": [
      "['land rover', 'bmw', 'audi', 'toyota', 'mercedes']\n",
      "['audi', 'bmw', 'land rover', 'mercedes', 'toyota']\n"
     ]
    }
   ],
   "source": [
    "print(cars)\n",
    "cars.sort()\n",
    "print(cars)"
   ]
  },
  {
   "cell_type": "code",
   "execution_count": 3,
   "metadata": {},
   "outputs": [
    {
     "name": "stdout",
     "output_type": "stream",
     "text": [
      "['audi', 'bmw', 'land rover', 'mercedes', 'toyota']\n",
      "['toyota', 'mercedes', 'land rover', 'bmw', 'audi']\n"
     ]
    }
   ],
   "source": [
    "# Now let's reverse sort the list\n",
    "print(cars)\n",
    "cars.sort(reverse=True)\n",
    "print(cars)"
   ]
  },
  {
   "cell_type": "code",
   "execution_count": 4,
   "metadata": {},
   "outputs": [
    {
     "data": {
      "text/plain": [
       "['land rover', 'bmw', 'audi', 'toyota', 'mercedes']"
      ]
     },
     "execution_count": 4,
     "metadata": {},
     "output_type": "execute_result"
    }
   ],
   "source": [
    "# Now let's reset the list\n",
    "cars = ['land rover', 'bmw', 'audi', 'toyota', 'mercedes']\n",
    "cars"
   ]
  },
  {
   "cell_type": "markdown",
   "metadata": {},
   "source": [
    "### Sorting temporarily using sorted() method"
   ]
  },
  {
   "cell_type": "code",
   "execution_count": 5,
   "metadata": {},
   "outputs": [
    {
     "name": "stdout",
     "output_type": "stream",
     "text": [
      "original list: \n",
      "['land rover', 'bmw', 'audi', 'toyota', 'mercedes']\n",
      "sorted list: \n",
      "['audi', 'bmw', 'land rover', 'mercedes', 'toyota']\n",
      "original list again: \n",
      "['land rover', 'bmw', 'audi', 'toyota', 'mercedes']\n"
     ]
    }
   ],
   "source": [
    "print(\"original list: \")\n",
    "print(cars)\n",
    "\n",
    "print(\"sorted list: \")\n",
    "print(sorted(cars))\n",
    "\n",
    "print(\"original list again: \")\n",
    "print(cars)"
   ]
  },
  {
   "cell_type": "markdown",
   "metadata": {},
   "source": [
    "### Printing the list in reverse order"
   ]
  },
  {
   "cell_type": "code",
   "execution_count": 6,
   "metadata": {},
   "outputs": [
    {
     "name": "stdout",
     "output_type": "stream",
     "text": [
      "['land rover', 'bmw', 'audi', 'toyota', 'mercedes']\n",
      "['mercedes', 'toyota', 'audi', 'bmw', 'land rover']\n"
     ]
    }
   ],
   "source": [
    "print(cars)\n",
    "cars.reverse()\n",
    "print(cars)"
   ]
  },
  {
   "cell_type": "markdown",
   "metadata": {},
   "source": [
    "### Finding the lenght of the list"
   ]
  },
  {
   "cell_type": "code",
   "execution_count": 7,
   "metadata": {},
   "outputs": [
    {
     "data": {
      "text/plain": [
       "5"
      ]
     },
     "execution_count": 7,
     "metadata": {},
     "output_type": "execute_result"
    }
   ],
   "source": [
    "len(cars)"
   ]
  },
  {
   "cell_type": "markdown",
   "metadata": {},
   "source": [
    "## Looping through an entire list"
   ]
  },
  {
   "cell_type": "markdown",
   "metadata": {},
   "source": [
    "<p>So, till now we were using index of a praticular item in the list to access it.\n",
    "What if we want to traverse through the list? Then we will use looping.</p>"
   ]
  },
  {
   "cell_type": "code",
   "execution_count": 8,
   "metadata": {},
   "outputs": [
    {
     "data": {
      "text/plain": [
       "['sachin', 'dhoni', 'kohli', 'rohit', 'bumrah', 'ravindra', 'rahul']"
      ]
     },
     "execution_count": 8,
     "metadata": {},
     "output_type": "execute_result"
    }
   ],
   "source": [
    "# let's recreate the cricketer's list\n",
    "indian_cricketers = ['sachin', 'dhoni', 'kohli', 'rohit', 'bumrah', 'ravindra', 'rahul']\n",
    "indian_cricketers"
   ]
  },
  {
   "cell_type": "code",
   "execution_count": 9,
   "metadata": {},
   "outputs": [
    {
     "name": "stdout",
     "output_type": "stream",
     "text": [
      "Sachin, is an Indian cricketer.\n",
      "Dhoni, is an Indian cricketer.\n",
      "Kohli, is an Indian cricketer.\n",
      "Rohit, is an Indian cricketer.\n",
      "Bumrah, is an Indian cricketer.\n",
      "Ravindra, is an Indian cricketer.\n",
      "Rahul, is an Indian cricketer.\n"
     ]
    }
   ],
   "source": [
    "# Now, let's traverse through the list\n",
    "for cricketer in indian_cricketers:\n",
    "    print(f'{cricketer.title()}, is an Indian cricketer.')"
   ]
  },
  {
   "cell_type": "markdown",
   "metadata": {},
   "source": [
    "## Making numerical list"
   ]
  },
  {
   "cell_type": "markdown",
   "metadata": {},
   "source": [
    "### Using range function\n",
    "\n",
    "<p>Let's first learn to use the range function, Which we will be using to create a list.</p>"
   ]
  },
  {
   "cell_type": "code",
   "execution_count": 10,
   "metadata": {},
   "outputs": [
    {
     "name": "stdout",
     "output_type": "stream",
     "text": [
      "1\n",
      "2\n",
      "3\n",
      "4\n"
     ]
    }
   ],
   "source": [
    "# Here 1 is included but 5 is excluded\n",
    "for value in range(1, 5):\n",
    "    print(value)"
   ]
  },
  {
   "cell_type": "code",
   "execution_count": 11,
   "metadata": {},
   "outputs": [
    {
     "name": "stdout",
     "output_type": "stream",
     "text": [
      "0\n",
      "1\n",
      "2\n",
      "3\n",
      "4\n",
      "5\n"
     ]
    }
   ],
   "source": [
    "# Here the starting number will be 0 and the ending will be 5, so 6 will be excluded\n",
    "for value in range(6):\n",
    "    print(value)"
   ]
  },
  {
   "cell_type": "code",
   "execution_count": 12,
   "metadata": {},
   "outputs": [
    {
     "name": "stdout",
     "output_type": "stream",
     "text": [
      "0\n",
      "2\n",
      "4\n",
      "6\n",
      "8\n"
     ]
    }
   ],
   "source": [
    "for value in range(0, 10, 2):\n",
    "    print(value)"
   ]
  },
  {
   "cell_type": "markdown",
   "metadata": {},
   "source": [
    "<p>So, range() function can take 1, 2, 3 values, the first one signifying from where you want to start the range(by default 0), the second signifies where it should end(2nd value - 1) and the third value specifies the step it should take to reach that value(by default 1).\n",
    "The 2nd value is mandatory and everything else is optional. So, if you give only 1 value then it will be treated as the 2nd value.</p>"
   ]
  },
  {
   "cell_type": "markdown",
   "metadata": {},
   "source": [
    "### Using range() to make a list"
   ]
  },
  {
   "cell_type": "code",
   "execution_count": 13,
   "metadata": {},
   "outputs": [
    {
     "name": "stdout",
     "output_type": "stream",
     "text": [
      "[1, 2, 3, 4, 5]\n"
     ]
    }
   ],
   "source": [
    "numbers = list(range(1, 6))\n",
    "print(numbers)"
   ]
  },
  {
   "cell_type": "code",
   "execution_count": 14,
   "metadata": {},
   "outputs": [
    {
     "name": "stdout",
     "output_type": "stream",
     "text": [
      "[2, 4, 6, 8, 10]\n"
     ]
    }
   ],
   "source": [
    "even_numbers = list(range(2, 11, 2))\n",
    "print(even_numbers)"
   ]
  },
  {
   "cell_type": "code",
   "execution_count": 15,
   "metadata": {},
   "outputs": [
    {
     "name": "stdout",
     "output_type": "stream",
     "text": [
      "[1, 4, 9, 16, 25, 36, 49, 64, 81, 100]\n"
     ]
    }
   ],
   "source": [
    "squares = []\n",
    "for value in range(1, 11):\n",
    "    square = value ** 2\n",
    "    squares.append(square)\n",
    "\n",
    "print(squares)"
   ]
  },
  {
   "cell_type": "markdown",
   "metadata": {},
   "source": [
    "### Simple statistics with a list of numbers"
   ]
  },
  {
   "cell_type": "code",
   "execution_count": 16,
   "metadata": {},
   "outputs": [
    {
     "name": "stdout",
     "output_type": "stream",
     "text": [
      "0\n",
      "9\n",
      "45\n"
     ]
    }
   ],
   "source": [
    "digits = [9, 3, 4, 1, 2, 5, 6, 0, 7, 8]\n",
    "print(min(digits))\n",
    "print(max(digits))\n",
    "print(sum(digits))"
   ]
  },
  {
   "cell_type": "markdown",
   "metadata": {},
   "source": [
    "### List comprehension"
   ]
  },
  {
   "cell_type": "code",
   "execution_count": 17,
   "metadata": {},
   "outputs": [
    {
     "name": "stdout",
     "output_type": "stream",
     "text": [
      "[1, 4, 9, 16, 25, 36, 49, 64, 81, 100]\n"
     ]
    }
   ],
   "source": [
    "# Instead of creating an empty list squares and then filling it we could also have done\n",
    "# it in a simpler and easier way as shown below:\n",
    "squares = [value**2 for value in range(1, 11)]\n",
    "print(squares)"
   ]
  },
  {
   "cell_type": "markdown",
   "metadata": {},
   "source": [
    "## Working with part of a list"
   ]
  },
  {
   "cell_type": "code",
   "execution_count": 18,
   "metadata": {},
   "outputs": [
    {
     "data": {
      "text/plain": [
       "['sachin', 'dhoni', 'kohli', 'rohit', 'bumrah', 'ravindra', 'rahul']"
      ]
     },
     "execution_count": 18,
     "metadata": {},
     "output_type": "execute_result"
    }
   ],
   "source": [
    "# Let's bring back the players list\n",
    "players = ['sachin', 'dhoni', 'kohli', 'rohit', 'bumrah', 'ravindra', 'rahul']\n",
    "players"
   ]
  },
  {
   "cell_type": "markdown",
   "metadata": {},
   "source": [
    "### Slicing a list"
   ]
  },
  {
   "cell_type": "code",
   "execution_count": 25,
   "metadata": {},
   "outputs": [
    {
     "name": "stdout",
     "output_type": "stream",
     "text": [
      "['sachin', 'dhoni', 'kohli', 'rohit', 'bumrah', 'ravindra', 'rahul']\n",
      "['sachin', 'dhoni', 'kohli']\n"
     ]
    }
   ],
   "source": [
    "print(players)\n",
    "# it will start from 0th index and the go till 2nd index\n",
    "print(players[0:3])"
   ]
  },
  {
   "cell_type": "code",
   "execution_count": 26,
   "metadata": {},
   "outputs": [
    {
     "name": "stdout",
     "output_type": "stream",
     "text": [
      "['sachin', 'dhoni', 'kohli', 'rohit', 'bumrah', 'ravindra', 'rahul']\n",
      "['dhoni', 'kohli', 'rohit']\n"
     ]
    }
   ],
   "source": [
    "print(players)\n",
    "# this will start from 1st index and will end at 3rd\n",
    "print(players[1:4])"
   ]
  },
  {
   "cell_type": "code",
   "execution_count": 27,
   "metadata": {},
   "outputs": [
    {
     "name": "stdout",
     "output_type": "stream",
     "text": [
      "['sachin', 'dhoni', 'kohli', 'rohit', 'bumrah', 'ravindra', 'rahul']\n",
      "['sachin', 'dhoni', 'kohli', 'rohit']\n"
     ]
    }
   ],
   "source": [
    "print(players)\n",
    "# This will start from 0th index and go till 3rd index\n",
    "print(players[:4])"
   ]
  },
  {
   "cell_type": "code",
   "execution_count": 28,
   "metadata": {},
   "outputs": [
    {
     "name": "stdout",
     "output_type": "stream",
     "text": [
      "['sachin', 'dhoni', 'kohli', 'rohit', 'bumrah', 'ravindra', 'rahul']\n",
      "['dhoni', 'kohli', 'rohit', 'bumrah', 'ravindra', 'rahul']\n"
     ]
    }
   ],
   "source": [
    "print(players)\n",
    "# This will start from 1st index and go till end\n",
    "print(players[1:])"
   ]
  },
  {
   "cell_type": "code",
   "execution_count": 29,
   "metadata": {},
   "outputs": [
    {
     "name": "stdout",
     "output_type": "stream",
     "text": [
      "['sachin', 'dhoni', 'kohli', 'rohit', 'bumrah', 'ravindra', 'rahul']\n",
      "['bumrah', 'ravindra', 'rahul']\n"
     ]
    }
   ],
   "source": [
    "print(players)\n",
    "# This will start from -3 index and go till end\n",
    "print(players[-3:])"
   ]
  },
  {
   "cell_type": "code",
   "execution_count": 30,
   "metadata": {},
   "outputs": [
    {
     "name": "stdout",
     "output_type": "stream",
     "text": [
      "['sachin', 'dhoni', 'kohli', 'rohit', 'bumrah', 'ravindra', 'rahul']\n",
      "['dhoni', 'rohit', 'ravindra']\n"
     ]
    }
   ],
   "source": [
    "print(players)\n",
    "# This will start from 1st index and go till end with a jump of 2\n",
    "print(players[1::2])"
   ]
  },
  {
   "cell_type": "markdown",
   "metadata": {},
   "source": [
    "### Looping through a slice"
   ]
  },
  {
   "cell_type": "code",
   "execution_count": 31,
   "metadata": {},
   "outputs": [
    {
     "name": "stdout",
     "output_type": "stream",
     "text": [
      "['sachin', 'dhoni', 'kohli', 'rohit', 'bumrah', 'ravindra', 'rahul']\n",
      "Here are the first three players from the list:\n",
      "Sachin\n",
      "Dhoni\n",
      "Kohli\n"
     ]
    }
   ],
   "source": [
    "# Printing first 3 players from the list\n",
    "\n",
    "print(players)\n",
    "print(\"Here are the first three players from the list:\")\n",
    "\n",
    "for player in players[:3]:\n",
    "    print(player.title())"
   ]
  },
  {
   "cell_type": "markdown",
   "metadata": {},
   "source": [
    "### Copying a list"
   ]
  },
  {
   "cell_type": "markdown",
   "metadata": {},
   "source": [
    "<p>Now let's say that we want two different list of players, one for ODI and one for T20, but some players are going to be common. So we are going to do that.</p>"
   ]
  },
  {
   "cell_type": "code",
   "execution_count": 33,
   "metadata": {},
   "outputs": [
    {
     "name": "stdout",
     "output_type": "stream",
     "text": [
      "Player's list: \n",
      "['sachin', 'dhoni', 'kohli', 'rohit', 'bumrah', 'ravindra', 'rahul']\n",
      "====================================================================================================\n",
      "The initial list for ODI players: \n",
      "['sachin', 'dhoni', 'kohli', 'rohit', 'bumrah', 'ravindra', 'rahul']\n",
      "====================================================================================================\n",
      "The initial list for t20 players: \n",
      "['sachin', 'dhoni', 'kohli', 'rohit', 'bumrah', 'ravindra', 'rahul']\n"
     ]
    }
   ],
   "source": [
    "odi = players[:]\n",
    "t20 = players[:]\n",
    "\n",
    "print(\"Player's list: \")\n",
    "print(players)\n",
    "print(\"=\" * 100)\n",
    "print(\"The initial list for ODI players: \")\n",
    "print(odi)\n",
    "print(\"=\" * 100)\n",
    "print(\"The initial list for t20 players: \")\n",
    "print(t20)"
   ]
  },
  {
   "cell_type": "code",
   "execution_count": 34,
   "metadata": {},
   "outputs": [],
   "source": [
    "# Now let's change the lists\n",
    "t20.remove('rahul')\n",
    "t20.append('surya')\n",
    "t20.append('chahal')\n",
    "t20.append('shami')\n",
    "\n",
    "#############################################\n",
    "\n",
    "odi.append('ashwin')\n",
    "odi.append('shami')"
   ]
  },
  {
   "cell_type": "code",
   "execution_count": 35,
   "metadata": {},
   "outputs": [
    {
     "name": "stdout",
     "output_type": "stream",
     "text": [
      "Player's list: \n",
      "['sachin', 'dhoni', 'kohli', 'rohit', 'bumrah', 'ravindra', 'rahul']\n",
      "====================================================================================================\n",
      "The modified list for ODI players: \n",
      "['sachin', 'dhoni', 'kohli', 'rohit', 'bumrah', 'ravindra', 'rahul', 'ashwin', 'shami']\n",
      "====================================================================================================\n",
      "The modified list for t20 players: \n",
      "['sachin', 'dhoni', 'kohli', 'rohit', 'bumrah', 'ravindra', 'surya', 'chahal', 'shami']\n"
     ]
    }
   ],
   "source": [
    "# Now, let's print the lists again\n",
    "\n",
    "print(\"Player's list: \")\n",
    "print(players)\n",
    "print(\"=\" * 100)\n",
    "print(\"The modified list for ODI players: \")\n",
    "print(odi)\n",
    "print(\"=\" * 100)\n",
    "print(\"The modified list for t20 players: \")\n",
    "print(t20)"
   ]
  },
  {
   "cell_type": "code",
   "execution_count": null,
   "metadata": {},
   "outputs": [],
   "source": []
  }
 ],
 "metadata": {
  "kernelspec": {
   "display_name": "learn-ai",
   "language": "python",
   "name": "python3"
  },
  "language_info": {
   "codemirror_mode": {
    "name": "ipython",
    "version": 3
   },
   "file_extension": ".py",
   "mimetype": "text/x-python",
   "name": "python",
   "nbconvert_exporter": "python",
   "pygments_lexer": "ipython3",
   "version": "3.11.8"
  }
 },
 "nbformat": 4,
 "nbformat_minor": 2
}
