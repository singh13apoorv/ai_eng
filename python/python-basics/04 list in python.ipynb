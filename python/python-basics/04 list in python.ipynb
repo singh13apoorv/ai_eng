{
 "cells": [
  {
   "cell_type": "markdown",
   "metadata": {},
   "source": [
    "# List"
   ]
  },
  {
   "cell_type": "markdown",
   "metadata": {},
   "source": [
    "## Introduction to list:"
   ]
  },
  {
   "cell_type": "markdown",
   "metadata": {},
   "source": [
    "### What is a list?"
   ]
  },
  {
   "cell_type": "code",
   "execution_count": 1,
   "metadata": {},
   "outputs": [
    {
     "name": "stdout",
     "output_type": "stream",
     "text": [
      "['hatchback', 'sedan', 'suv', 'sports']\n",
      "<class 'list'>\n"
     ]
    }
   ],
   "source": [
    "# Lets define a list in python\n",
    "car_type = ['hatchback', 'sedan', 'suv', 'sports']\n",
    "print(car_type)\n",
    "print(type(car_type))"
   ]
  },
  {
   "cell_type": "code",
   "execution_count": 4,
   "metadata": {},
   "outputs": [
    {
     "name": "stdout",
     "output_type": "stream",
     "text": [
      "['hello', 3, 2.26, 'tree']\n",
      "<class 'list'>\n"
     ]
    }
   ],
   "source": [
    "# We can have multiple data types in one list if we want to.\n",
    "random_list = ['hello', 3, 2.26, 'tree']\n",
    "print(random_list)\n",
    "print(type(random_list))"
   ]
  },
  {
   "cell_type": "markdown",
   "metadata": {},
   "source": [
    "### Accessing values in the list"
   ]
  },
  {
   "cell_type": "code",
   "execution_count": 5,
   "metadata": {},
   "outputs": [
    {
     "data": {
      "text/plain": [
       "'hatchback'"
      ]
     },
     "execution_count": 5,
     "metadata": {},
     "output_type": "execute_result"
    }
   ],
   "source": [
    "# Just like string, list items also starts with 0 indexing\n",
    "# Lets try to access the first element (0th index) in car_type list.\n",
    "car_type[0]"
   ]
  },
  {
   "cell_type": "code",
   "execution_count": 6,
   "metadata": {},
   "outputs": [
    {
     "data": {
      "text/plain": [
       "'sports'"
      ]
     },
     "execution_count": 6,
     "metadata": {},
     "output_type": "execute_result"
    }
   ],
   "source": [
    "# Similarly like string we can access the last item in the list\n",
    "# using negitive indexing, hence -1 index will give you the last\n",
    "# element in a list.\n",
    "car_type[-1]"
   ]
  },
  {
   "cell_type": "markdown",
   "metadata": {},
   "source": [
    "## Changing, Adding and Removing elements from a list"
   ]
  },
  {
   "cell_type": "code",
   "execution_count": 5,
   "metadata": {},
   "outputs": [
    {
     "data": {
      "text/plain": [
       "['dhoni', 'kohli', 'rohit', 'bumrah', 'jadeja']"
      ]
     },
     "execution_count": 5,
     "metadata": {},
     "output_type": "execute_result"
    }
   ],
   "source": [
    "# Now let's create a new list to change, add and remove from\n",
    "cricket_players = ['dhoni', 'kohli', 'rohit', 'bumrah', 'jadeja']\n",
    "cricket_players"
   ]
  },
  {
   "cell_type": "code",
   "execution_count": 6,
   "metadata": {},
   "outputs": [
    {
     "data": {
      "text/plain": [
       "'dhoni'"
      ]
     },
     "execution_count": 6,
     "metadata": {},
     "output_type": "execute_result"
    }
   ],
   "source": [
    "cricket_players[0]"
   ]
  },
  {
   "cell_type": "markdown",
   "metadata": {},
   "source": [
    "### Modifying elements in a list"
   ]
  },
  {
   "cell_type": "code",
   "execution_count": 7,
   "metadata": {},
   "outputs": [
    {
     "name": "stdout",
     "output_type": "stream",
     "text": [
      "['dhoni', 'kohli', 'rohit', 'bumrah', 'jadeja']\n",
      "['dhoni', 'kohli', 'rohit', 'bumrah', 'ravindra']\n"
     ]
    }
   ],
   "source": [
    "print(cricket_players)\n",
    "cricket_players[-1] = 'ravindra'\n",
    "print(cricket_players)"
   ]
  },
  {
   "cell_type": "markdown",
   "metadata": {},
   "source": [
    "### Adding elements to the list"
   ]
  },
  {
   "cell_type": "code",
   "execution_count": 8,
   "metadata": {},
   "outputs": [
    {
     "name": "stdout",
     "output_type": "stream",
     "text": [
      "['dhoni', 'kohli', 'rohit', 'bumrah', 'ravindra']\n",
      "['dhoni', 'kohli', 'rohit', 'bumrah', 'ravindra', 'rahul']\n"
     ]
    }
   ],
   "source": [
    "print(cricket_players)\n",
    "cricket_players.append('rahul')\n",
    "print(cricket_players)"
   ]
  },
  {
   "cell_type": "markdown",
   "metadata": {},
   "source": [
    "### Inserting elements to the list"
   ]
  },
  {
   "cell_type": "code",
   "execution_count": 9,
   "metadata": {},
   "outputs": [
    {
     "name": "stdout",
     "output_type": "stream",
     "text": [
      "['dhoni', 'kohli', 'rohit', 'bumrah', 'ravindra', 'rahul']\n",
      "['sachin', 'dhoni', 'kohli', 'rohit', 'bumrah', 'ravindra', 'rahul']\n"
     ]
    }
   ],
   "source": [
    "print(cricket_players)\n",
    "cricket_players.insert(0, 'sachin')\n",
    "print(cricket_players)"
   ]
  },
  {
   "cell_type": "markdown",
   "metadata": {},
   "source": [
    "### Removing an item using the del statement"
   ]
  },
  {
   "cell_type": "code",
   "execution_count": 10,
   "metadata": {},
   "outputs": [
    {
     "name": "stdout",
     "output_type": "stream",
     "text": [
      "['sachin', 'dhoni', 'kohli', 'rohit', 'bumrah', 'ravindra', 'rahul']\n",
      "['sachin', 'dhoni', 'kohli', 'rohit', 'bumrah', 'ravindra']\n"
     ]
    }
   ],
   "source": [
    "print(cricket_players)\n",
    "del cricket_players[-1]\n",
    "print(cricket_players)"
   ]
  },
  {
   "cell_type": "markdown",
   "metadata": {},
   "source": [
    "### Removing items using pop"
   ]
  },
  {
   "cell_type": "code",
   "execution_count": 11,
   "metadata": {},
   "outputs": [
    {
     "name": "stdout",
     "output_type": "stream",
     "text": [
      "['sachin', 'dhoni', 'kohli', 'rohit', 'bumrah', 'ravindra']\n",
      "['sachin', 'dhoni', 'kohli', 'rohit', 'bumrah']\n",
      "ravindra\n"
     ]
    }
   ],
   "source": [
    "print(cricket_players)\n",
    "# removes the last element from a list.\n",
    "popped_player = cricket_players.pop()\n",
    "print(cricket_players)\n",
    "print(popped_player)"
   ]
  },
  {
   "cell_type": "markdown",
   "metadata": {},
   "source": [
    "### Popping items from any position in a list"
   ]
  },
  {
   "cell_type": "code",
   "execution_count": 12,
   "metadata": {},
   "outputs": [
    {
     "name": "stdout",
     "output_type": "stream",
     "text": [
      "['sachin', 'dhoni', 'kohli', 'rohit', 'bumrah']\n",
      "['sachin', 'dhoni', 'kohli', 'rohit']\n",
      "bumrah\n"
     ]
    }
   ],
   "source": [
    "print(cricket_players)\n",
    "fast_baller = cricket_players.pop(-1)\n",
    "print(cricket_players)\n",
    "print(fast_baller)"
   ]
  },
  {
   "cell_type": "markdown",
   "metadata": {},
   "source": [
    "### Removing an item by value"
   ]
  },
  {
   "cell_type": "markdown",
   "metadata": {},
   "source": [
    "<p>remove function will only remove the first occurance of the item.</p>"
   ]
  },
  {
   "cell_type": "code",
   "execution_count": 13,
   "metadata": {},
   "outputs": [
    {
     "name": "stdout",
     "output_type": "stream",
     "text": [
      "['sachin', 'dhoni', 'kohli', 'rohit']\n",
      "['dhoni', 'kohli', 'rohit']\n"
     ]
    }
   ],
   "source": [
    "print(cricket_players)\n",
    "cricket_players.remove('sachin')\n",
    "print(cricket_players)"
   ]
  },
  {
   "cell_type": "markdown",
   "metadata": {},
   "source": [
    "## Organising the list"
   ]
  },
  {
   "cell_type": "code",
   "execution_count": 1,
   "metadata": {},
   "outputs": [
    {
     "data": {
      "text/plain": [
       "['land rover', 'bmw', 'audi', 'toyota', 'mercedes']"
      ]
     },
     "execution_count": 1,
     "metadata": {},
     "output_type": "execute_result"
    }
   ],
   "source": [
    "# Let's create a new list\n",
    "cars = ['land rover', 'bmw', 'audi', 'toyota', 'mercedes']\n",
    "cars"
   ]
  },
  {
   "cell_type": "markdown",
   "metadata": {},
   "source": [
    "### Permanently sorting using sort method"
   ]
  },
  {
   "cell_type": "code",
   "execution_count": 2,
   "metadata": {},
   "outputs": [
    {
     "name": "stdout",
     "output_type": "stream",
     "text": [
      "['land rover', 'bmw', 'audi', 'toyota', 'mercedes']\n",
      "['audi', 'bmw', 'land rover', 'mercedes', 'toyota']\n"
     ]
    }
   ],
   "source": [
    "print(cars)\n",
    "cars.sort()\n",
    "print(cars)"
   ]
  },
  {
   "cell_type": "code",
   "execution_count": 3,
   "metadata": {},
   "outputs": [
    {
     "name": "stdout",
     "output_type": "stream",
     "text": [
      "['audi', 'bmw', 'land rover', 'mercedes', 'toyota']\n",
      "['toyota', 'mercedes', 'land rover', 'bmw', 'audi']\n"
     ]
    }
   ],
   "source": [
    "# Now let's reverse sort the list\n",
    "print(cars)\n",
    "cars.sort(reverse=True)\n",
    "print(cars)"
   ]
  },
  {
   "cell_type": "code",
   "execution_count": 4,
   "metadata": {},
   "outputs": [
    {
     "data": {
      "text/plain": [
       "['land rover', 'bmw', 'audi', 'toyota', 'mercedes']"
      ]
     },
     "execution_count": 4,
     "metadata": {},
     "output_type": "execute_result"
    }
   ],
   "source": [
    "# Now let's reset the list\n",
    "cars = ['land rover', 'bmw', 'audi', 'toyota', 'mercedes']\n",
    "cars"
   ]
  },
  {
   "cell_type": "markdown",
   "metadata": {},
   "source": [
    "### Sorting temporarily using sorted() method"
   ]
  },
  {
   "cell_type": "code",
   "execution_count": 5,
   "metadata": {},
   "outputs": [
    {
     "name": "stdout",
     "output_type": "stream",
     "text": [
      "original list: \n",
      "['land rover', 'bmw', 'audi', 'toyota', 'mercedes']\n",
      "sorted list: \n",
      "['audi', 'bmw', 'land rover', 'mercedes', 'toyota']\n",
      "original list again: \n",
      "['land rover', 'bmw', 'audi', 'toyota', 'mercedes']\n"
     ]
    }
   ],
   "source": [
    "print(\"original list: \")\n",
    "print(cars)\n",
    "\n",
    "print(\"sorted list: \")\n",
    "print(sorted(cars))\n",
    "\n",
    "print(\"original list again: \")\n",
    "print(cars)"
   ]
  },
  {
   "cell_type": "markdown",
   "metadata": {},
   "source": [
    "### Printing the list in reverse order"
   ]
  },
  {
   "cell_type": "code",
   "execution_count": 6,
   "metadata": {},
   "outputs": [
    {
     "name": "stdout",
     "output_type": "stream",
     "text": [
      "['land rover', 'bmw', 'audi', 'toyota', 'mercedes']\n",
      "['mercedes', 'toyota', 'audi', 'bmw', 'land rover']\n"
     ]
    }
   ],
   "source": [
    "print(cars)\n",
    "cars.reverse()\n",
    "print(cars)"
   ]
  },
  {
   "cell_type": "markdown",
   "metadata": {},
   "source": [
    "### Finding the lenght of the list"
   ]
  },
  {
   "cell_type": "code",
   "execution_count": 7,
   "metadata": {},
   "outputs": [
    {
     "data": {
      "text/plain": [
       "5"
      ]
     },
     "execution_count": 7,
     "metadata": {},
     "output_type": "execute_result"
    }
   ],
   "source": [
    "len(cars)"
   ]
  },
  {
   "cell_type": "code",
   "execution_count": null,
   "metadata": {},
   "outputs": [],
   "source": []
  }
 ],
 "metadata": {
  "kernelspec": {
   "display_name": "learn-ai",
   "language": "python",
   "name": "python3"
  },
  "language_info": {
   "codemirror_mode": {
    "name": "ipython",
    "version": 3
   },
   "file_extension": ".py",
   "mimetype": "text/x-python",
   "name": "python",
   "nbconvert_exporter": "python",
   "pygments_lexer": "ipython3",
   "version": "3.11.8"
  }
 },
 "nbformat": 4,
 "nbformat_minor": 2
}
