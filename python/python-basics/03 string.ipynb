{
 "cells": [
  {
   "cell_type": "markdown",
   "metadata": {},
   "source": [
    "# Strings"
   ]
  },
  {
   "cell_type": "markdown",
   "metadata": {},
   "source": [
    "## Let's talk some more about strings in python\n",
    "<hr>\n",
    "\n",
    "Strings in python has multiple methods attached to it. As we will see in this notebook. These methods can be helpful in performing multiple actions on a string. We will first learn about string indexing in python."
   ]
  },
  {
   "cell_type": "markdown",
   "metadata": {},
   "source": [
    "### Assigning values to variables f_name and l_name:"
   ]
  },
  {
   "cell_type": "code",
   "execution_count": 1,
   "metadata": {},
   "outputs": [],
   "source": [
    "# lets discuss about some of the string functions and features using first and last name.\n",
    "# as you can see that I am following the python naming convention for the variables.\n",
    "f_name = \"apoorv\"\n",
    "l_name = \"singh\""
   ]
  },
  {
   "cell_type": "code",
   "execution_count": 15,
   "metadata": {},
   "outputs": [
    {
     "name": "stdout",
     "output_type": "stream",
     "text": [
      "apoorvapoorvapoorv\n"
     ]
    }
   ],
   "source": [
    "# Prints the f_name 3 times\n",
    "print(f_name*3)"
   ]
  },
  {
   "cell_type": "markdown",
   "metadata": {},
   "source": [
    "### String indexing:"
   ]
  },
  {
   "cell_type": "code",
   "execution_count": 2,
   "metadata": {},
   "outputs": [
    {
     "data": {
      "text/plain": [
       "'r'"
      ]
     },
     "execution_count": 2,
     "metadata": {},
     "output_type": "execute_result"
    }
   ],
   "source": [
    "# How would you get the r in f_name?\n",
    "# Python follows 0 indexing for strings meaning that\n",
    "# the first letter will always be at 0th index.\n",
    "# so the index of r should be 4.\n",
    "f_name[4]"
   ]
  },
  {
   "cell_type": "code",
   "execution_count": 3,
   "metadata": {},
   "outputs": [
    {
     "data": {
      "text/plain": [
       "'a'"
      ]
     },
     "execution_count": 3,
     "metadata": {},
     "output_type": "execute_result"
    }
   ],
   "source": [
    "f_name[0]"
   ]
  },
  {
   "cell_type": "code",
   "execution_count": 7,
   "metadata": {},
   "outputs": [
    {
     "data": {
      "text/plain": [
       "'v'"
      ]
     },
     "execution_count": 7,
     "metadata": {},
     "output_type": "execute_result"
    }
   ],
   "source": [
    "# This gives you the last character in the string.\n",
    "f_name[-1]"
   ]
  },
  {
   "cell_type": "code",
   "execution_count": 11,
   "metadata": {},
   "outputs": [
    {
     "data": {
      "text/plain": [
       "'apo'"
      ]
     },
     "execution_count": 11,
     "metadata": {},
     "output_type": "execute_result"
    }
   ],
   "source": [
    "# This will all the characters starting at 0th index and going upto \n",
    "# 2nd index [a -> 0, -6, p -> 1, -5, o -> 2, -4, o -> 3, -3, r -> 4, -2, v -> 5, -1]\n",
    "# so apo, hence ending index is excluded.\n",
    "f_name[0:3]"
   ]
  },
  {
   "cell_type": "code",
   "execution_count": 12,
   "metadata": {},
   "outputs": [
    {
     "data": {
      "text/plain": [
       "'or'"
      ]
     },
     "execution_count": 12,
     "metadata": {},
     "output_type": "execute_result"
    }
   ],
   "source": [
    "# This will start at -3 index as shown above and go till -2 index\n",
    "# hence, the answer or\n",
    "f_name[-3: -1]"
   ]
  },
  {
   "cell_type": "code",
   "execution_count": 13,
   "metadata": {},
   "outputs": [
    {
     "data": {
      "text/plain": [
       "'orv'"
      ]
     },
     "execution_count": 13,
     "metadata": {},
     "output_type": "execute_result"
    }
   ],
   "source": [
    "# What if you want to go till the last one starting from -3 or 3?\n",
    "# Then simply leave the right index empty.\n",
    "f_name[-3:]"
   ]
  },
  {
   "cell_type": "code",
   "execution_count": 14,
   "metadata": {},
   "outputs": [
    {
     "data": {
      "text/plain": [
       "'apoorv'"
      ]
     },
     "execution_count": 14,
     "metadata": {},
     "output_type": "execute_result"
    }
   ],
   "source": [
    "# This will go from starting to end.\n",
    "f_name[0:]"
   ]
  },
  {
   "cell_type": "markdown",
   "metadata": {},
   "source": [
    "### Now let's make name out of f_name and l_name"
   ]
  },
  {
   "cell_type": "code",
   "execution_count": 6,
   "metadata": {},
   "outputs": [
    {
     "name": "stdout",
     "output_type": "stream",
     "text": [
      "This name was created by simple addition: apoorv singh\n",
      "This name was created by f string method: apoorv singh\n",
      "This name was created by .format method: apoorv singh\n",
      "Printing the first letter of both words upper case: Apoorv Singh\n",
      "Printing the whole name in upper case: APOORV SINGH\n",
      "Printing the whole name in lower case: apoorv singh\n",
      "Printing with only first letter capital: Apoorv singh\n"
     ]
    }
   ],
   "source": [
    "# Adding a space to make saperation between f_name and l_name.\n",
    "# In jupyter notebook you don't need to add print statement if\n",
    "# you just want one output in one cell, but for multiple output\n",
    "# in one cell you need to add print statement.\n",
    "name = f_name + \" \" + l_name\n",
    "print(f\"This name was created by simple addition: {name}\")\n",
    "\n",
    "# You can do the same thing as above by using the formatting method as well.\n",
    "name = f\"{f_name} {l_name}\"\n",
    "print(f\"This name was created by f string method: {name}\")\n",
    "\n",
    "# Another method of formatting in python\n",
    "name = \"{} {}\".format(f_name, l_name)\n",
    "print(f\"This name was created by .format method: {name}\")\n",
    "\n",
    "# Now let's capitalize the first letter of each word in the name.\n",
    "print(f\"Printing the first letter of both words upper case: {name.title()}\")\n",
    "\n",
    "# Want to print the whole name upper case?\n",
    "print(f\"Printing the whole name in upper case: {name.upper()}\")\n",
    "\n",
    "# let's print the whole name in lower case as well\n",
    "print(f\"Printing the whole name in lower case: {name.lower()}\")\n",
    "\n",
    "# let's print the name with only first letter captial\n",
    "print(f\"Printing with only first letter capital: {name.capitalize()}\")"
   ]
  },
  {
   "cell_type": "markdown",
   "metadata": {},
   "source": [
    "### Lets add space and then strip it"
   ]
  },
  {
   "cell_type": "code",
   "execution_count": 16,
   "metadata": {},
   "outputs": [
    {
     "data": {
      "text/plain": [
       "'apoorv singh '"
      ]
     },
     "execution_count": 16,
     "metadata": {},
     "output_type": "execute_result"
    }
   ],
   "source": [
    "# Adding space in the name\n",
    "name = f\" {f_name} {l_name} \"\n",
    "\n",
    "# Printing the name after striping the left side of extra space\n",
    "name.lstrip()"
   ]
  },
  {
   "cell_type": "code",
   "execution_count": 17,
   "metadata": {},
   "outputs": [
    {
     "data": {
      "text/plain": [
       "' apoorv singh'"
      ]
     },
     "execution_count": 17,
     "metadata": {},
     "output_type": "execute_result"
    }
   ],
   "source": [
    "# Printing the name after striping the right side of extra space\n",
    "name.rstrip()"
   ]
  },
  {
   "cell_type": "code",
   "execution_count": 18,
   "metadata": {},
   "outputs": [
    {
     "data": {
      "text/plain": [
       "'apoorv singh'"
      ]
     },
     "execution_count": 18,
     "metadata": {},
     "output_type": "execute_result"
    }
   ],
   "source": [
    "# Printing the name after striping both side of extra space\n",
    "name.strip()"
   ]
  },
  {
   "cell_type": "markdown",
   "metadata": {},
   "source": [
    "### Some more functions that can be applied on string"
   ]
  },
  {
   "cell_type": "code",
   "execution_count": 19,
   "metadata": {},
   "outputs": [
    {
     "data": {
      "text/plain": [
       "'apoorv singh'"
      ]
     },
     "execution_count": 19,
     "metadata": {},
     "output_type": "execute_result"
    }
   ],
   "source": [
    "# first lets strip the extra space and reassign\n",
    "name = name.strip()\n",
    "name\n"
   ]
  },
  {
   "cell_type": "code",
   "execution_count": 21,
   "metadata": {},
   "outputs": [
    {
     "data": {
      "text/plain": [
       "2"
      ]
     },
     "execution_count": 21,
     "metadata": {},
     "output_type": "execute_result"
    }
   ],
   "source": [
    "# lets count number of o's characters in the name\n",
    "name.count(\"o\")"
   ]
  },
  {
   "cell_type": "code",
   "execution_count": 22,
   "metadata": {},
   "outputs": [
    {
     "data": {
      "text/plain": [
       "2"
      ]
     },
     "execution_count": 22,
     "metadata": {},
     "output_type": "execute_result"
    }
   ],
   "source": [
    "# The find() function in Python is used to find \n",
    "# the index of the first occurrence of a substring in a given string.\n",
    "# It returns the index of the first occurrence of the substring,\n",
    "# or -1 if the substring is not found.\n",
    "name.find(\"o\")"
   ]
  },
  {
   "cell_type": "code",
   "execution_count": 24,
   "metadata": {},
   "outputs": [
    {
     "data": {
      "text/plain": [
       "2"
      ]
     },
     "execution_count": 24,
     "metadata": {},
     "output_type": "execute_result"
    }
   ],
   "source": [
    "# we can also specify the substring index in which we want to find \n",
    "# the character or string\n",
    "name.find(\"o\", 1, 4)"
   ]
  },
  {
   "cell_type": "code",
   "execution_count": 25,
   "metadata": {},
   "outputs": [
    {
     "data": {
      "text/plain": [
       "2"
      ]
     },
     "execution_count": 25,
     "metadata": {},
     "output_type": "execute_result"
    }
   ],
   "source": [
    "name.find(\"oo\")"
   ]
  },
  {
   "cell_type": "code",
   "execution_count": 26,
   "metadata": {},
   "outputs": [
    {
     "data": {
      "text/plain": [
       "3"
      ]
     },
     "execution_count": 26,
     "metadata": {},
     "output_type": "execute_result"
    }
   ],
   "source": [
    "name.find(\"or\")"
   ]
  },
  {
   "cell_type": "code",
   "execution_count": 27,
   "metadata": {},
   "outputs": [
    {
     "data": {
      "text/plain": [
       "-1"
      ]
     },
     "execution_count": 27,
     "metadata": {},
     "output_type": "execute_result"
    }
   ],
   "source": [
    "name.find(\"or\", 5, 6)"
   ]
  },
  {
   "cell_type": "code",
   "execution_count": 28,
   "metadata": {},
   "outputs": [
    {
     "data": {
      "text/plain": [
       "4"
      ]
     },
     "execution_count": 28,
     "metadata": {},
     "output_type": "execute_result"
    }
   ],
   "source": [
    "# The index() method in Python returns the index\n",
    "# of the first occurrence of a specified value in a string.\n",
    "name.index(\"r\")"
   ]
  },
  {
   "cell_type": "markdown",
   "metadata": {},
   "source": [
    "### Difference between find and index function:"
   ]
  },
  {
   "cell_type": "markdown",
   "metadata": {},
   "source": [
    "The find() and index() functions in Python are both used to find the index of a substring in a string. However, there are some key differences between the two functions:\n",
    "\n",
    "1. The find() function returns the index of the first occurrence of the substring in the string. If the substring is not found, the find() function returns -1.\n",
    "\n",
    "2. The index() function also returns the index of the first occurrence of the substring in the string. However, if the substring is not found, the index() function raises a ValueError exception."
   ]
  },
  {
   "cell_type": "markdown",
   "metadata": {},
   "source": [
    "### Lets talk about back slashes \\:"
   ]
  },
  {
   "cell_type": "code",
   "execution_count": 29,
   "metadata": {},
   "outputs": [
    {
     "name": "stdout",
     "output_type": "stream",
     "text": [
      "I love python\n",
      "but it can be challenging sometimes.\n"
     ]
    }
   ],
   "source": [
    "# \\n creates a new line\n",
    "print(\"I love python\\nbut it can be challenging sometimes.\")"
   ]
  },
  {
   "cell_type": "code",
   "execution_count": 30,
   "metadata": {},
   "outputs": [
    {
     "name": "stdout",
     "output_type": "stream",
     "text": [
      "'\n"
     ]
    }
   ],
   "source": [
    "# if you want to print ' inside '' then also you use \\ (back slash)\n",
    "print('\\'')"
   ]
  },
  {
   "cell_type": "code",
   "execution_count": 31,
   "metadata": {},
   "outputs": [
    {
     "name": "stdout",
     "output_type": "stream",
     "text": [
      "\\\n"
     ]
    }
   ],
   "source": [
    "# if you want to print a \\(back slash)\n",
    "print('\\\\')"
   ]
  },
  {
   "cell_type": "code",
   "execution_count": 32,
   "metadata": {},
   "outputs": [
    {
     "name": "stdout",
     "output_type": "stream",
     "text": [
      "hello \t world\n"
     ]
    }
   ],
   "source": [
    "# create a horizontal tab\n",
    "print('hello \\t world')"
   ]
  },
  {
   "cell_type": "markdown",
   "metadata": {},
   "source": [
    "I have specified all the important functions and methods in a string.\n",
    "If you would like to learn more about python strings the following \n",
    "are some reference links:<br>\n",
    "[https://www.javatpoint.com/python-strings]<br>\n",
    "[https://www.geeksforgeeks.org/python-string/]<br>\n",
    "[https://docs.python.org/3/tutorial/introduction.html#text]<br>"
   ]
  }
 ],
 "metadata": {
  "kernelspec": {
   "display_name": "learn-ai",
   "language": "python",
   "name": "python3"
  },
  "language_info": {
   "codemirror_mode": {
    "name": "ipython",
    "version": 3
   },
   "file_extension": ".py",
   "mimetype": "text/x-python",
   "name": "python",
   "nbconvert_exporter": "python",
   "pygments_lexer": "ipython3",
   "version": "3.11.8"
  }
 },
 "nbformat": 4,
 "nbformat_minor": 2
}
