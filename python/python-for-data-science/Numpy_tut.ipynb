{
 "cells": [
  {
   "cell_type": "markdown",
   "id": "101ca0a6-1ff6-45e6-963b-26c1c19fb777",
   "metadata": {},
   "source": [
    "# Numpy tutorials\n",
    "\n",
    "NumPy is a general purpose array processing package. It provides a high performance multi-dimensional array object, and tools for working with these array. It is fundamental package for scientific computing with python."
   ]
  },
  {
   "cell_type": "markdown",
   "id": "9312ded6-9b5b-4677-affb-60b7f54f0845",
   "metadata": {},
   "source": [
    "### What is an array?\n",
    "\n",
    "An array is a data structure that stores values of same data type. In python, this is the main difference between arrays and lists. While python lists can contain values corresponding to different data types, array in python can only contain values conresponding to same data type."
   ]
  },
  {
   "cell_type": "code",
   "execution_count": 3,
   "id": "902dfbf3-18b4-4a8f-a7ad-6edd13ec5f8c",
   "metadata": {},
   "outputs": [],
   "source": [
    "# First we need to import numpy\n",
    "\n",
    "import numpy as np"
   ]
  },
  {
   "cell_type": "markdown",
   "id": "f27a98ef-cf16-4671-b951-6397c1a8ba17",
   "metadata": {},
   "source": [
    "## Creating arrays in numpy"
   ]
  },
  {
   "cell_type": "code",
   "execution_count": 9,
   "id": "0a35f6cb-8236-43fb-8ff7-d94d5305feaf",
   "metadata": {},
   "outputs": [],
   "source": [
    "# One dimensional array."
   ]
  },
  {
   "cell_type": "code",
   "execution_count": 4,
   "id": "0279bbdb-b2cd-41b9-8903-1a654e3c9fe3",
   "metadata": {},
   "outputs": [],
   "source": [
    "my_list = [1, 2, 3, 4, 5]\n",
    "arr = np.array(my_list)"
   ]
  },
  {
   "cell_type": "code",
   "execution_count": 5,
   "id": "86dc93ba-26ca-4a5a-8bdc-5f1e883ad918",
   "metadata": {},
   "outputs": [
    {
     "data": {
      "text/plain": [
       "numpy.ndarray"
      ]
     },
     "execution_count": 5,
     "metadata": {},
     "output_type": "execute_result"
    }
   ],
   "source": [
    "type(arr)"
   ]
  },
  {
   "cell_type": "code",
   "execution_count": 6,
   "id": "7ac2793f-5f70-4409-b9d6-d8fb68dff381",
   "metadata": {},
   "outputs": [
    {
     "name": "stdout",
     "output_type": "stream",
     "text": [
      "int64\n"
     ]
    }
   ],
   "source": [
    "print(arr.dtype)"
   ]
  },
  {
   "cell_type": "code",
   "execution_count": 7,
   "id": "a810681b-2c78-42e8-b307-de17b4eb5dd5",
   "metadata": {},
   "outputs": [
    {
     "data": {
      "text/plain": [
       "array([1, 2, 3, 4, 5])"
      ]
     },
     "execution_count": 7,
     "metadata": {},
     "output_type": "execute_result"
    }
   ],
   "source": [
    "arr"
   ]
  },
  {
   "cell_type": "code",
   "execution_count": 8,
   "id": "181b6ac0-a58e-47e7-a8e7-931e26409bbb",
   "metadata": {},
   "outputs": [
    {
     "data": {
      "text/plain": [
       "(5,)"
      ]
     },
     "execution_count": 8,
     "metadata": {},
     "output_type": "execute_result"
    }
   ],
   "source": [
    "arr.shape"
   ]
  },
  {
   "cell_type": "code",
   "execution_count": 10,
   "id": "a735c638-bfef-49a0-b674-025dd873f5ee",
   "metadata": {},
   "outputs": [],
   "source": [
    "# Two dimensional array\n",
    "\n",
    "my_list1 = [1, 2, 5, 6, 8]\n",
    "my_list2 = [2, 5, 8, 3, 9]\n",
    "my_list3 = [6, 4, 9, 8, 3]\n",
    "\n",
    "arr_2d = np.array([my_list1, my_list2, my_list3])"
   ]
  },
  {
   "cell_type": "code",
   "execution_count": 11,
   "id": "7bff9474-1aa4-49e7-abad-26ef2d5524b6",
   "metadata": {},
   "outputs": [
    {
     "data": {
      "text/plain": [
       "array([[1, 2, 5, 6, 8],\n",
       "       [2, 5, 8, 3, 9],\n",
       "       [6, 4, 9, 8, 3]])"
      ]
     },
     "execution_count": 11,
     "metadata": {},
     "output_type": "execute_result"
    }
   ],
   "source": [
    "arr_2d"
   ]
  },
  {
   "cell_type": "code",
   "execution_count": 12,
   "id": "22fa2574-2820-432f-8531-41345b8cc1ab",
   "metadata": {},
   "outputs": [
    {
     "data": {
      "text/plain": [
       "(3, 5)"
      ]
     },
     "execution_count": 12,
     "metadata": {},
     "output_type": "execute_result"
    }
   ],
   "source": [
    "arr_2d.shape"
   ]
  },
  {
   "cell_type": "markdown",
   "id": "8a29878e-8f2d-48f7-bde1-36e25007a15e",
   "metadata": {},
   "source": [
    "## Reshaping numpy array"
   ]
  },
  {
   "cell_type": "code",
   "execution_count": 13,
   "id": "c4a06c69-2204-4c65-8a8a-eee060ecb18b",
   "metadata": {},
   "outputs": [
    {
     "data": {
      "text/plain": [
       "array([[1, 2, 5],\n",
       "       [6, 8, 2],\n",
       "       [5, 8, 3],\n",
       "       [9, 6, 4],\n",
       "       [9, 8, 3]])"
      ]
     },
     "execution_count": 13,
     "metadata": {},
     "output_type": "execute_result"
    }
   ],
   "source": [
    "arr_2d.reshape(5, 3)"
   ]
  },
  {
   "cell_type": "code",
   "execution_count": 14,
   "id": "ce7727cb-29e1-41c6-a3fd-f32ed35fc843",
   "metadata": {},
   "outputs": [
    {
     "data": {
      "text/plain": [
       "(3, 5)"
      ]
     },
     "execution_count": 14,
     "metadata": {},
     "output_type": "execute_result"
    }
   ],
   "source": [
    "arr_2d.shape"
   ]
  },
  {
   "cell_type": "markdown",
   "id": "540d957c-e7da-45bd-8e37-a35a802ce7d6",
   "metadata": {},
   "source": [
    "## Indexing"
   ]
  },
  {
   "cell_type": "code",
   "execution_count": 16,
   "id": "60fd3a36-714b-4d06-a88c-1a4e55133f5f",
   "metadata": {},
   "outputs": [
    {
     "name": "stdout",
     "output_type": "stream",
     "text": [
      "4\n"
     ]
    }
   ],
   "source": [
    "print(arr[3])"
   ]
  },
  {
   "cell_type": "code",
   "execution_count": 17,
   "id": "f25517b4-3b1e-41c0-bd21-d7b0178e9b7c",
   "metadata": {},
   "outputs": [
    {
     "data": {
      "text/plain": [
       "array([4, 5])"
      ]
     },
     "execution_count": 17,
     "metadata": {},
     "output_type": "execute_result"
    }
   ],
   "source": [
    "arr[3:]"
   ]
  },
  {
   "cell_type": "code",
   "execution_count": 19,
   "id": "97a2c128-6166-4bc8-bc91-bf67406747c7",
   "metadata": {},
   "outputs": [
    {
     "data": {
      "text/plain": [
       "array([[5, 6],\n",
       "       [8, 3]])"
      ]
     },
     "execution_count": 19,
     "metadata": {},
     "output_type": "execute_result"
    }
   ],
   "source": [
    "## arr_2d[rows, columns]\n",
    "# Here 2 indexed row and 4 indexed column are excluded.\n",
    "arr_2d[0:2, 2:4]"
   ]
  },
  {
   "cell_type": "markdown",
   "id": "be64c659-353f-4000-9da7-cae95ddd6e3d",
   "metadata": {},
   "source": [
    "## Special functions"
   ]
  },
  {
   "cell_type": "code",
   "execution_count": 20,
   "id": "a0b53920-1af5-4017-8e17-bc0ad51a5a83",
   "metadata": {},
   "outputs": [],
   "source": [
    "## arange: creates 1d arrays\n",
    "'''\n",
    "Here you have to provide start point and end point(excluded) and step is optional. If you provide step then \n",
    "it will take steps of that amount.\n",
    "'''\n",
    "ar = np.arange(0, 10)"
   ]
  },
  {
   "cell_type": "code",
   "execution_count": 21,
   "id": "3224d919-35d6-4dfc-aeff-9d42c2a532de",
   "metadata": {},
   "outputs": [
    {
     "data": {
      "text/plain": [
       "array([0, 1, 2, 3, 4, 5, 6, 7, 8, 9])"
      ]
     },
     "execution_count": 21,
     "metadata": {},
     "output_type": "execute_result"
    }
   ],
   "source": [
    "ar"
   ]
  },
  {
   "cell_type": "code",
   "execution_count": 22,
   "id": "618ca521-44dd-463a-b5c5-e4bc50ab04a1",
   "metadata": {},
   "outputs": [
    {
     "data": {
      "text/plain": [
       "array([0, 2, 4, 6, 8])"
      ]
     },
     "execution_count": 22,
     "metadata": {},
     "output_type": "execute_result"
    }
   ],
   "source": [
    "ar1 = np.arange(0, 10, step=2)\n",
    "ar1"
   ]
  },
  {
   "cell_type": "code",
   "execution_count": 24,
   "id": "be0580b5-5131-4676-9327-84c33d0f867a",
   "metadata": {},
   "outputs": [
    {
     "data": {
      "text/plain": [
       "array([ 0.        ,  0.20408163,  0.40816327,  0.6122449 ,  0.81632653,\n",
       "        1.02040816,  1.2244898 ,  1.42857143,  1.63265306,  1.83673469,\n",
       "        2.04081633,  2.24489796,  2.44897959,  2.65306122,  2.85714286,\n",
       "        3.06122449,  3.26530612,  3.46938776,  3.67346939,  3.87755102,\n",
       "        4.08163265,  4.28571429,  4.48979592,  4.69387755,  4.89795918,\n",
       "        5.10204082,  5.30612245,  5.51020408,  5.71428571,  5.91836735,\n",
       "        6.12244898,  6.32653061,  6.53061224,  6.73469388,  6.93877551,\n",
       "        7.14285714,  7.34693878,  7.55102041,  7.75510204,  7.95918367,\n",
       "        8.16326531,  8.36734694,  8.57142857,  8.7755102 ,  8.97959184,\n",
       "        9.18367347,  9.3877551 ,  9.59183673,  9.79591837, 10.        ])"
      ]
     },
     "execution_count": 24,
     "metadata": {},
     "output_type": "execute_result"
    }
   ],
   "source": [
    "## linspace: creates 1d array with x numbers of points in between start and stop which are equally divided.\n",
    "\n",
    "ar = np.linspace(0, 10, num=50)\n",
    "ar"
   ]
  },
  {
   "cell_type": "markdown",
   "id": "6e91fcb4-c669-46e2-aaed-729fe9ad780e",
   "metadata": {},
   "source": [
    "## Copy function and broadcasting"
   ]
  },
  {
   "cell_type": "code",
   "execution_count": 25,
   "id": "cc6fd2dd-27c4-41b4-93d6-f1c9fb627b3d",
   "metadata": {},
   "outputs": [
    {
     "name": "stdout",
     "output_type": "stream",
     "text": [
      "[1 2 3 4 5]\n"
     ]
    }
   ],
   "source": [
    "'''\n",
    "Let's say you want to create a copy of an array, you just create a new name and assgin the old array to it.\n",
    "What will happen in that case? An array will be created in reference type. Let's see What's a reference type\n",
    "'''\n",
    "arr1 = arr\n",
    "print(arr)"
   ]
  },
  {
   "cell_type": "code",
   "execution_count": 26,
   "id": "e8b9a5b5-189a-43ef-9750-11825044a7c1",
   "metadata": {},
   "outputs": [
    {
     "data": {
      "text/plain": [
       "array([1, 2, 3, 4, 5])"
      ]
     },
     "execution_count": 26,
     "metadata": {},
     "output_type": "execute_result"
    }
   ],
   "source": [
    "arr1 "
   ]
  },
  {
   "cell_type": "code",
   "execution_count": 27,
   "id": "639194ed-ea8e-402e-bfd6-20c3f93392b3",
   "metadata": {},
   "outputs": [],
   "source": [
    "arr1[2:] = 500"
   ]
  },
  {
   "cell_type": "code",
   "execution_count": 28,
   "id": "76501866-e758-46a8-a9ce-321f34226b3b",
   "metadata": {},
   "outputs": [
    {
     "data": {
      "text/plain": [
       "array([  1,   2, 500, 500, 500])"
      ]
     },
     "execution_count": 28,
     "metadata": {},
     "output_type": "execute_result"
    }
   ],
   "source": [
    "arr1"
   ]
  },
  {
   "cell_type": "code",
   "execution_count": 29,
   "id": "c457ef90-f61d-4f42-8fa7-0f4273b74499",
   "metadata": {},
   "outputs": [
    {
     "data": {
      "text/plain": [
       "array([  1,   2, 500, 500, 500])"
      ]
     },
     "execution_count": 29,
     "metadata": {},
     "output_type": "execute_result"
    }
   ],
   "source": [
    "arr"
   ]
  },
  {
   "cell_type": "code",
   "execution_count": 35,
   "id": "09faae2c-809e-41ac-8824-8df0f1e7fffb",
   "metadata": {},
   "outputs": [
    {
     "data": {
      "text/plain": [
       "array([  1,   2, 500, 500, 500])"
      ]
     },
     "execution_count": 35,
     "metadata": {},
     "output_type": "execute_result"
    }
   ],
   "source": [
    "'''\n",
    "Now as you can see that copying this way changes both the arrays. So, what should we do? We have something \n",
    "called copy(). The copy() function copies the value and not just the reference to the initial array.\n",
    "'''\n",
    "\n",
    "arr1 = arr.copy()\n",
    "arr"
   ]
  },
  {
   "cell_type": "code",
   "execution_count": 31,
   "id": "c3c2284a-01d2-4d94-8544-99a351a3266a",
   "metadata": {},
   "outputs": [
    {
     "data": {
      "text/plain": [
       "array([  1,   2, 500, 500, 500])"
      ]
     },
     "execution_count": 31,
     "metadata": {},
     "output_type": "execute_result"
    }
   ],
   "source": [
    "arr1"
   ]
  },
  {
   "cell_type": "code",
   "execution_count": 32,
   "id": "516a9819-0cb1-4a0c-b395-14417c42c965",
   "metadata": {},
   "outputs": [],
   "source": [
    "arr1[2:] = 1200"
   ]
  },
  {
   "cell_type": "code",
   "execution_count": 33,
   "id": "a7fa797d-e925-42bc-8082-9e651ca97c78",
   "metadata": {},
   "outputs": [
    {
     "data": {
      "text/plain": [
       "array([   1,    2, 1200, 1200, 1200])"
      ]
     },
     "execution_count": 33,
     "metadata": {},
     "output_type": "execute_result"
    }
   ],
   "source": [
    "arr1"
   ]
  },
  {
   "cell_type": "code",
   "execution_count": 34,
   "id": "9255bf27-9218-4eef-bd4c-9b868f46db23",
   "metadata": {},
   "outputs": [
    {
     "data": {
      "text/plain": [
       "array([  1,   2, 500, 500, 500])"
      ]
     },
     "execution_count": 34,
     "metadata": {},
     "output_type": "execute_result"
    }
   ],
   "source": [
    "arr"
   ]
  },
  {
   "cell_type": "code",
   "execution_count": 36,
   "id": "b5032824-0da7-4a34-9eec-dc49c318a5c2",
   "metadata": {},
   "outputs": [
    {
     "data": {
      "text/plain": [
       "array([ True,  True, False, False, False])"
      ]
     },
     "execution_count": 36,
     "metadata": {},
     "output_type": "execute_result"
    }
   ],
   "source": [
    "'''\n",
    "Some conditions are very useful in Exploratory Data Analysis.\n",
    "'''\n",
    "\n",
    "val = 3\n",
    "\n",
    "arr<val"
   ]
  },
  {
   "cell_type": "code",
   "execution_count": 37,
   "id": "373254fb-468f-40c0-a7f0-085f3772bb95",
   "metadata": {},
   "outputs": [
    {
     "data": {
      "text/plain": [
       "array([   2,    4, 1000, 1000, 1000])"
      ]
     },
     "execution_count": 37,
     "metadata": {},
     "output_type": "execute_result"
    }
   ],
   "source": [
    "arr*2"
   ]
  },
  {
   "cell_type": "code",
   "execution_count": 38,
   "id": "7e4c01ce-061d-4a23-bedc-166575fb0c95",
   "metadata": {},
   "outputs": [
    {
     "data": {
      "text/plain": [
       "array([  0.5,   1. , 250. , 250. , 250. ])"
      ]
     },
     "execution_count": 38,
     "metadata": {},
     "output_type": "execute_result"
    }
   ],
   "source": [
    "arr/2"
   ]
  },
  {
   "cell_type": "code",
   "execution_count": 39,
   "id": "ccdb8e52-66ac-4d58-8233-2fb6d7e9fa47",
   "metadata": {},
   "outputs": [
    {
     "data": {
      "text/plain": [
       "array([1, 2])"
      ]
     },
     "execution_count": 39,
     "metadata": {},
     "output_type": "execute_result"
    }
   ],
   "source": [
    "arr[arr<val]"
   ]
  },
  {
   "cell_type": "code",
   "execution_count": 40,
   "id": "4d59c351-9bc0-4ec6-b903-47cbf5bd447b",
   "metadata": {},
   "outputs": [
    {
     "data": {
      "text/plain": [
       "array([[0, 1],\n",
       "       [2, 3],\n",
       "       [4, 5],\n",
       "       [6, 7],\n",
       "       [8, 9]])"
      ]
     },
     "execution_count": 40,
     "metadata": {},
     "output_type": "execute_result"
    }
   ],
   "source": [
    "np.arange(0,10).reshape(5, 2)"
   ]
  },
  {
   "cell_type": "markdown",
   "id": "016bbe96-0501-4a43-bacd-c4f8ea6ae32e",
   "metadata": {},
   "source": [
    "## Inbuilt functions"
   ]
  },
  {
   "cell_type": "code",
   "execution_count": 41,
   "id": "f7074d7d-bdbb-4bce-b1cf-f9dc516c24fb",
   "metadata": {},
   "outputs": [
    {
     "data": {
      "text/plain": [
       "array([1., 1., 1., 1.])"
      ]
     },
     "execution_count": 41,
     "metadata": {},
     "output_type": "execute_result"
    }
   ],
   "source": [
    "## np.ones() inbuilt function that creates an array with all 1's which are floats. \n",
    "# If you want the 1's to be int then you need to specify it explicitly.\n",
    "np.ones(4)"
   ]
  },
  {
   "cell_type": "code",
   "execution_count": 43,
   "id": "a46a38a8-e6ab-41c2-827b-2a45f1e64300",
   "metadata": {},
   "outputs": [
    {
     "data": {
      "text/plain": [
       "array([1, 1, 1, 1])"
      ]
     },
     "execution_count": 43,
     "metadata": {},
     "output_type": "execute_result"
    }
   ],
   "source": [
    "np.ones(4, dtype=int)"
   ]
  },
  {
   "cell_type": "code",
   "execution_count": 44,
   "id": "5cfe624b-8767-4a60-bb6d-16632edb9bfd",
   "metadata": {},
   "outputs": [
    {
     "data": {
      "text/plain": [
       "array([[1, 1, 1, 1, 1],\n",
       "       [1, 1, 1, 1, 1]])"
      ]
     },
     "execution_count": 44,
     "metadata": {},
     "output_type": "execute_result"
    }
   ],
   "source": [
    "np.ones((2, 5), dtype=int)"
   ]
  },
  {
   "cell_type": "code",
   "execution_count": 46,
   "id": "6ea65ab4-c716-4abc-baf8-f3e74a0c4c39",
   "metadata": {},
   "outputs": [
    {
     "data": {
      "text/plain": [
       "array([[0.34079114, 0.6790605 , 0.11228975],\n",
       "       [0.96766568, 0.08495584, 0.47906187],\n",
       "       [0.8282118 , 0.94756739, 0.57778538]])"
      ]
     },
     "execution_count": 46,
     "metadata": {},
     "output_type": "execute_result"
    }
   ],
   "source": [
    "## Random distribution\n",
    "# It selects some random values of given shape and creates an array.\n",
    "np.random.rand(3, 3)"
   ]
  },
  {
   "cell_type": "code",
   "execution_count": 48,
   "id": "daa4aeb2-d4e0-4ad8-82e6-73bf8dff21fd",
   "metadata": {},
   "outputs": [],
   "source": [
    "## np.random.randn() select the values based on standard normal distribution.\n",
    "arr_std = np.random.randn(4, 4)"
   ]
  },
  {
   "cell_type": "code",
   "execution_count": 49,
   "id": "370a51c9-6f05-4aa3-8e80-a12a53c60c31",
   "metadata": {},
   "outputs": [
    {
     "data": {
      "text/plain": [
       "array([[-1.19489721, -0.05525238, -0.80578797,  0.20086589],\n",
       "       [-2.47931336, -0.75411959, -0.50473663,  0.28359155],\n",
       "       [ 0.22993987, -0.7930691 ,  0.79487114,  0.21091136],\n",
       "       [ 0.73220139,  0.95100436, -0.60899093, -0.35420536]])"
      ]
     },
     "execution_count": 49,
     "metadata": {},
     "output_type": "execute_result"
    }
   ],
   "source": [
    "arr_std"
   ]
  },
  {
   "cell_type": "code",
   "execution_count": 52,
   "id": "ca80b6af-8f58-49a5-8976-5ae56ecc27d1",
   "metadata": {},
   "outputs": [
    {
     "data": {
      "text/plain": [
       "array([47, 32, 18, 61, 81,  3,  0, 91])"
      ]
     },
     "execution_count": 52,
     "metadata": {},
     "output_type": "execute_result"
    }
   ],
   "source": [
    "## np.random.randint()\n",
    "# Below it says select 8 integers from 0 to 100(excluded).\n",
    "np.random.randint(0, 100, 8)"
   ]
  },
  {
   "cell_type": "code",
   "execution_count": 53,
   "id": "001a3cb6-ae2c-48d4-ae25-de24622eeece",
   "metadata": {},
   "outputs": [
    {
     "data": {
      "text/plain": [
       "array([[44, 37],\n",
       "       [75,  2],\n",
       "       [82, 20],\n",
       "       [58, 22]])"
      ]
     },
     "execution_count": 53,
     "metadata": {},
     "output_type": "execute_result"
    }
   ],
   "source": [
    "# We can reshape it as well\n",
    "np.random.randint(0, 100, 8).reshape(4, 2)"
   ]
  },
  {
   "cell_type": "code",
   "execution_count": null,
   "id": "9b85525d-244f-4f40-a9da-a15e22108c08",
   "metadata": {},
   "outputs": [],
   "source": []
  }
 ],
 "metadata": {
  "kernelspec": {
   "display_name": "Python 3 (ipykernel)",
   "language": "python",
   "name": "python3"
  },
  "language_info": {
   "codemirror_mode": {
    "name": "ipython",
    "version": 3
   },
   "file_extension": ".py",
   "mimetype": "text/x-python",
   "name": "python",
   "nbconvert_exporter": "python",
   "pygments_lexer": "ipython3",
   "version": "3.11.8"
  }
 },
 "nbformat": 4,
 "nbformat_minor": 5
}
